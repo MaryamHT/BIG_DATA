{
 "cells": [
  {
   "cell_type": "markdown",
   "id": "b26350be",
   "metadata": {},
   "source": [
    "Question 1- Is there any correlation between physical strength and fearfulness (try to compare pearson and spearman)? (Farnaz and Kavleen)\n",
    "\n",
    "Question 2- Is the relationship between physical strength and fearfulness predictable? (Absence of correlation does not mean that we cannot predict target (specially if non-linear))\n",
    "\n",
    "Question 3- What are the important features in the prediction of fearfulness? (Niki)\n",
    "\n",
    "Question 4- Can we predict a fearfulness score of a participant based on other features in the dataset? (Maryam:SVM) (Niki:RF)"
   ]
  },
  {
   "cell_type": "code",
   "execution_count": 93,
   "id": "1f97ca4c",
   "metadata": {},
   "outputs": [],
   "source": [
    "### Libraries used\n",
    "from pyspark.rdd import RDD\n",
    "from pyspark.sql import Row\n",
    "from pyspark.sql import DataFrame\n",
    "from pyspark.sql import SparkSession\n",
    "from pyspark.sql.functions import mean, col, expr, rand, count, when, isnan\n",
    "# from pyspark.ml.classification import *\n",
    "from pyspark.ml.regression import *\n",
    "from pyspark.ml.linalg import Vectors\n",
    "from pyspark.ml.feature import VectorAssembler, Imputer\n",
    "from pyspark.ml.evaluation import RegressionEvaluator\n",
    "import numpy as np"
   ]
  },
  {
   "cell_type": "code",
   "execution_count": 94,
   "id": "b3a8784a",
   "metadata": {},
   "outputs": [
    {
     "data": {
      "text/plain": [
       "DataFrame[p_id: int, age: int, female: int, ethnicity: int, grip: int, chest: string, e_anx_1: int, e_anx_2: int, e_anx_3: int, e_anx_4: int, e_anx_5: int, e_anx_6: int, e_anx_7: int, e_anx_8: int, e_anx_9: int, e_anx_10: int, e_dep_1: int, e_dep_2: int, e_dep_3: int, e_dep_4: int, e_dep_5: int, e_dep_6: int, e_dep_7: int, e_dep_8: int, e_dep_9: int, e_dep_10: int, e_fear_1: int, e_fear_2: int, e_fear_3: int, e_fear_4: int, e_fear_5: int, e_fear_6: int, e_fear_7: int, e_fear_8: int, e_fear_9: int, e_fear_10: int, e_sen_1: int, e_sen_2: int, e_sen_3: int, e_sen_4: int, e_sen_5: int, e_sen_6: int, e_sen_7: int, e_sen_8: int, e_sen_9: int, e_sen_10: int]"
      ]
     },
     "execution_count": 94,
     "metadata": {},
     "output_type": "execute_result"
    }
   ],
   "source": [
    "###Read Dataset\n",
    "def init_spark():\n",
    "    spark = SparkSession \\\n",
    "        .builder \\\n",
    "        .appName(\"Python Spark SQL basic example\") \\\n",
    "        .config(\"spark.some.config.option\", \"some-value\") \\\n",
    "        .getOrCreate()\n",
    "    return spark\n",
    "\n",
    "spark = init_spark()\n",
    "df = spark.read.csv('Sample_1.csv', inferSchema =True, header=True)\n",
    "df"
   ]
  },
  {
   "cell_type": "markdown",
   "id": "52f44854",
   "metadata": {},
   "source": [
    "# Data Preparation"
   ]
  },
  {
   "cell_type": "code",
   "execution_count": 95,
   "id": "79024766",
   "metadata": {},
   "outputs": [
    {
     "data": {
      "text/plain": [
       "[Row(p_id=103, age=21, female=0, ethnicity=8, grip=52, chest='31', mean_anx=4.9, mean_dep=4.0, mean_fear=3.7, mean_sen=3.6),\n",
       " Row(p_id=183, age=20, female=0, ethnicity=8, grip=34, chest='38', mean_anx=4.0, mean_dep=4.1, mean_fear=4.0, mean_sen=3.6),\n",
       " Row(p_id=177, age=19, female=0, ethnicity=1, grip=48, chest='32', mean_anx=4.7, mean_dep=4.1, mean_fear=3.6, mean_sen=3.5),\n",
       " Row(p_id=133, age=19, female=0, ethnicity=1, grip=48, chest='30', mean_anx=4.1, mean_dep=3.8, mean_fear=3.6, mean_sen=4.2),\n",
       " Row(p_id=171, age=18, female=0, ethnicity=2, grip=40, chest='40', mean_anx=4.7, mean_dep=4.0, mean_fear=3.7, mean_sen=3.3),\n",
       " Row(p_id=167, age=20, female=0, ethnicity=8, grip=49, chest='36', mean_anx=3.7, mean_dep=4.1, mean_fear=3.3, mean_sen=4.3),\n",
       " Row(p_id=164, age=18, female=0, ethnicity=2, grip=36, chest='40', mean_anx=3.6, mean_dep=5.1, mean_fear=4.7, mean_sen=4.0),\n",
       " Row(p_id=184, age=19, female=0, ethnicity=8, grip=38, chest='36', mean_anx=4.2, mean_dep=4.1, mean_fear=4.0, mean_sen=4.0),\n",
       " Row(p_id=147, age=19, female=0, ethnicity=1, grip=58, chest='45', mean_anx=4.8, mean_dep=3.7, mean_fear=4.2, mean_sen=4.4),\n",
       " Row(p_id=157, age=21, female=0, ethnicity=1, grip=35, chest='19', mean_anx=4.4, mean_dep=3.5, mean_fear=3.4, mean_sen=3.3),\n",
       " Row(p_id=186, age=19, female=0, ethnicity=8, grip=38, chest='26', mean_anx=4.2, mean_dep=5.4, mean_fear=3.9, mean_sen=3.8),\n",
       " Row(p_id=138, age=19, female=0, ethnicity=1, grip=40, chest='32', mean_anx=3.5, mean_dep=5.3, mean_fear=3.9, mean_sen=2.9),\n",
       " Row(p_id=109, age=18, female=0, ethnicity=2, grip=36, chest='38', mean_anx=4.9, mean_dep=4.3, mean_fear=2.8, mean_sen=4.0),\n",
       " Row(p_id=107, age=20, female=0, ethnicity=2, grip=34, chest='18', mean_anx=3.7, mean_dep=4.8, mean_fear=3.8, mean_sen=3.3),\n",
       " Row(p_id=104, age=19, female=0, ethnicity=1, grip=53, chest='52', mean_anx=3.8, mean_dep=2.0, mean_fear=4.0, mean_sen=3.6),\n",
       " Row(p_id=110, age=19, female=0, ethnicity=1, grip=54, chest='56', mean_anx=4.0, mean_dep=3.2, mean_fear=3.9, mean_sen=4.0),\n",
       " Row(p_id=146, age=19, female=0, ethnicity=1, grip=44, chest='42', mean_anx=3.9, mean_dep=3.0, mean_fear=3.2, mean_sen=4.1),\n",
       " Row(p_id=114, age=19, female=0, ethnicity=1, grip=40, chest='59', mean_anx=3.9, mean_dep=4.1, mean_fear=3.9, mean_sen=3.8),\n",
       " Row(p_id=102, age=18, female=0, ethnicity=1, grip=38, chest='12', mean_anx=4.3, mean_dep=4.2, mean_fear=3.3, mean_sen=5.0),\n",
       " Row(p_id=129, age=20, female=0, ethnicity=1, grip=46, chest='39', mean_anx=3.4, mean_dep=3.3, mean_fear=2.5, mean_sen=4.1),\n",
       " Row(p_id=142, age=18, female=0, ethnicity=1, grip=44, chest='40', mean_anx=3.4, mean_dep=3.4, mean_fear=3.3, mean_sen=4.4),\n",
       " Row(p_id=168, age=19, female=0, ethnicity=1, grip=38, chest='56', mean_anx=4.0, mean_dep=3.2, mean_fear=3.3, mean_sen=4.5),\n",
       " Row(p_id=119, age=19, female=0, ethnicity=1, grip=46, chest='51', mean_anx=3.9, mean_dep=3.1, mean_fear=2.7, mean_sen=3.5),\n",
       " Row(p_id=165, age=19, female=0, ethnicity=1, grip=38, chest='40', mean_anx=3.1, mean_dep=3.1, mean_fear=3.8, mean_sen=2.7),\n",
       " Row(p_id=169, age=18, female=0, ethnicity=5, grip=40, chest='32', mean_anx=4.4, mean_dep=5.5, mean_fear=3.9, mean_sen=3.1),\n",
       " Row(p_id=117, age=18, female=0, ethnicity=5, grip=37, chest='40', mean_anx=3.5, mean_dep=3.4, mean_fear=3.7, mean_sen=4.3),\n",
       " Row(p_id=130, age=19, female=0, ethnicity=1, grip=44, chest='50', mean_anx=4.3, mean_dep=4.1, mean_fear=4.1, mean_sen=3.6),\n",
       " Row(p_id=137, age=23, female=0, ethnicity=5, grip=56, chest='48', mean_anx=4.4, mean_dep=4.4, mean_fear=3.5, mean_sen=3.9),\n",
       " Row(p_id=139, age=18, female=0, ethnicity=8, grip=32, chest='25', mean_anx=3.8, mean_dep=4.2, mean_fear=3.4, mean_sen=4.3),\n",
       " Row(p_id=143, age=19, female=0, ethnicity=1, grip=43, chest='45', mean_anx=4.2, mean_dep=4.4, mean_fear=4.4, mean_sen=4.0),\n",
       " Row(p_id=153, age=18, female=0, ethnicity=1, grip=38, chest='32', mean_anx=4.6, mean_dep=4.1, mean_fear=2.9, mean_sen=4.0),\n",
       " Row(p_id=161, age=19, female=0, ethnicity=2, grip=34, chest='34', mean_anx=4.4, mean_dep=4.6, mean_fear=3.6, mean_sen=3.9),\n",
       " Row(p_id=178, age=21, female=0, ethnicity=5, grip=35, chest='25', mean_anx=4.4, mean_dep=3.9, mean_fear=3.6, mean_sen=4.3),\n",
       " Row(p_id=182, age=19, female=0, ethnicity=5, grip=35, chest='28', mean_anx=3.5, mean_dep=4.7, mean_fear=4.7, mean_sen=4.3),\n",
       " Row(p_id=101, age=21, female=0, ethnicity=2, grip=57, chest='67', mean_anx=3.7, mean_dep=3.6, mean_fear=3.9, mean_sen=4.0),\n",
       " Row(p_id=144, age=18, female=0, ethnicity=5, grip=51, chest='34', mean_anx=4.6, mean_dep=4.0, mean_fear=3.5, mean_sen=4.5),\n",
       " Row(p_id=162, age=20, female=0, ethnicity=1, grip=51, chest='36', mean_anx=3.5, mean_dep=3.0, mean_fear=3.9, mean_sen=3.8),\n",
       " Row(p_id=136, age=21, female=0, ethnicity=1, grip=50, chest='48', mean_anx=4.2, mean_dep=3.0, mean_fear=3.3, mean_sen=4.1),\n",
       " Row(p_id=116, age=19, female=0, ethnicity=5, grip=47, chest='39', mean_anx=4.4, mean_dep=3.2, mean_fear=3.5, mean_sen=5.5),\n",
       " Row(p_id=127, age=20, female=0, ethnicity=1, grip=61, chest='57', mean_anx=3.5, mean_dep=3.7, mean_fear=4.1, mean_sen=3.1),\n",
       " Row(p_id=140, age=19, female=0, ethnicity=1, grip=52, chest='62', mean_anx=3.8, mean_dep=2.4, mean_fear=3.4, mean_sen=4.1),\n",
       " Row(p_id=122, age=18, female=0, ethnicity=1, grip=42, chest='38', mean_anx=4.6, mean_dep=3.6, mean_fear=2.5, mean_sen=3.9),\n",
       " Row(p_id=166, age=19, female=0, ethnicity=8, grip=56, chest='32', mean_anx=4.6, mean_dep=4.6, mean_fear=3.7, mean_sen=3.9),\n",
       " Row(p_id=120, age=18, female=0, ethnicity=2, grip=48, chest='49', mean_anx=4.2, mean_dep=5.6, mean_fear=3.9, mean_sen=4.3),\n",
       " Row(p_id=106, age=19, female=0, ethnicity=2, grip=51, chest='69', mean_anx=3.4, mean_dep=2.2, mean_fear=4.0, mean_sen=2.8),\n",
       " Row(p_id=131, age=18, female=0, ethnicity=1, grip=50, chest='46', mean_anx=4.0, mean_dep=4.0, mean_fear=4.5, mean_sen=3.7),\n",
       " Row(p_id=112, age=19, female=0, ethnicity=1, grip=52, chest='51', mean_anx=4.3, mean_dep=4.3, mean_fear=3.9, mean_sen=4.2),\n",
       " Row(p_id=181, age=19, female=0, ethnicity=5, grip=49, chest='41', mean_anx=3.8, mean_dep=4.7, mean_fear=3.9, mean_sen=3.9),\n",
       " Row(p_id=145, age=18, female=0, ethnicity=5, grip=50, chest='57', mean_anx=4.7, mean_dep=3.5, mean_fear=4.0, mean_sen=3.9),\n",
       " Row(p_id=118, age=19, female=0, ethnicity=3, grip=46, chest='32', mean_anx=4.0, mean_dep=2.0, mean_fear=3.1, mean_sen=3.2),\n",
       " Row(p_id=160, age=23, female=0, ethnicity=1, grip=54, chest='46', mean_anx=3.1, mean_dep=2.0, mean_fear=3.1, mean_sen=3.7),\n",
       " Row(p_id=159, age=21, female=0, ethnicity=7, grip=48, chest='44', mean_anx=3.6, mean_dep=4.3, mean_fear=3.7, mean_sen=4.3),\n",
       " Row(p_id=126, age=19, female=0, ethnicity=1, grip=58, chest='42', mean_anx=3.6, mean_dep=3.1, mean_fear=3.6, mean_sen=4.3),\n",
       " Row(p_id=115, age=19, female=0, ethnicity=1, grip=39, chest='19', mean_anx=3.8, mean_dep=4.2, mean_fear=3.5, mean_sen=4.1),\n",
       " Row(p_id=158, age=21, female=0, ethnicity=5, grip=31, chest='34', mean_anx=4.2, mean_dep=5.3, mean_fear=4.7, mean_sen=4.0),\n",
       " Row(p_id=125, age=22, female=0, ethnicity=5, grip=30, chest='32', mean_anx=3.6, mean_dep=3.8, mean_fear=3.2, mean_sen=3.9),\n",
       " Row(p_id=172, age=18, female=0, ethnicity=5, grip=57, chest='66', mean_anx=3.4, mean_dep=2.9, mean_fear=3.7, mean_sen=3.7),\n",
       " Row(p_id=123, age=19, female=0, ethnicity=1, grip=51, chest='54', mean_anx=4.2, mean_dep=4.7, mean_fear=3.4, mean_sen=3.9),\n",
       " Row(p_id=141, age=18, female=0, ethnicity=1, grip=48, chest='34', mean_anx=4.9, mean_dep=3.7, mean_fear=4.7, mean_sen=4.0),\n",
       " Row(p_id=170, age=26, female=0, ethnicity=1, grip=39, chest='50', mean_anx=4.7, mean_dep=3.5, mean_fear=4.0, mean_sen=4.3),\n",
       " Row(p_id=105, age=18, female=0, ethnicity=1, grip=38, chest='42', mean_anx=4.1, mean_dep=3.1, mean_fear=3.1, mean_sen=4.0),\n",
       " Row(p_id=180, age=19, female=0, ethnicity=1, grip=50, chest='38', mean_anx=3.8, mean_dep=4.6, mean_fear=3.8, mean_sen=3.8),\n",
       " Row(p_id=155, age=18, female=0, ethnicity=5, grip=40, chest='42', mean_anx=4.6, mean_dep=3.8, mean_fear=4.2, mean_sen=3.0),\n",
       " Row(p_id=179, age=24, female=0, ethnicity=1, grip=51, chest='20', mean_anx=4.7, mean_dep=5.1, mean_fear=3.7, mean_sen=4.1),\n",
       " Row(p_id=151, age=20, female=0, ethnicity=1, grip=46, chest='32', mean_anx=4.0, mean_dep=3.4, mean_fear=3.5, mean_sen=4.3),\n",
       " Row(p_id=100, age=19, female=0, ethnicity=1, grip=58, chest='60', mean_anx=4.2, mean_dep=4.7, mean_fear=3.9, mean_sen=4.4),\n",
       " Row(p_id=111, age=18, female=0, ethnicity=1, grip=50, chest='73', mean_anx=2.2, mean_dep=2.6, mean_fear=4.0, mean_sen=2.0),\n",
       " Row(p_id=121, age=22, female=0, ethnicity=1, grip=55, chest='52', mean_anx=3.9, mean_dep=3.3, mean_fear=3.3, mean_sen=3.8),\n",
       " Row(p_id=152, age=21, female=0, ethnicity=1, grip=42, chest='42', mean_anx=3.3, mean_dep=4.3, mean_fear=3.8, mean_sen=3.0),\n",
       " Row(p_id=156, age=20, female=0, ethnicity=8, grip=55, chest='64', mean_anx=4.0, mean_dep=2.1, mean_fear=4.0, mean_sen=3.3),\n",
       " Row(p_id=128, age=30, female=0, ethnicity=1, grip=50, chest='38', mean_anx=3.9, mean_dep=3.8, mean_fear=3.5, mean_sen=3.9),\n",
       " Row(p_id=135, age=25, female=0, ethnicity=2, grip=30, chest='20', mean_anx=4.6, mean_dep=4.3, mean_fear=4.3, mean_sen=4.0),\n",
       " Row(p_id=132, age=19, female=0, ethnicity=1, grip=54, chest='58', mean_anx=2.8, mean_dep=4.1, mean_fear=4.7, mean_sen=4.7),\n",
       " Row(p_id=108, age=19, female=0, ethnicity=1, grip=64, chest='48', mean_anx=5.4, mean_dep=6.1, mean_fear=5.6, mean_sen=5.7),\n",
       " Row(p_id=134, age=18, female=0, ethnicity=8, grip=52, chest='64', mean_anx=4.5, mean_dep=3.8, mean_fear=4.3, mean_sen=5.3),\n",
       " Row(p_id=124, age=18, female=0, ethnicity=5, grip=48, chest='45', mean_anx=3.2, mean_dep=4.5, mean_fear=3.6, mean_sen=3.3),\n",
       " Row(p_id=154, age=18, female=0, ethnicity=2, grip=49, chest='53', mean_anx=3.9, mean_dep=3.8, mean_fear=3.5, mean_sen=4.5),\n",
       " Row(p_id=163, age=19, female=0, ethnicity=1, grip=52, chest='47', mean_anx=4.2, mean_dep=5.0, mean_fear=3.3, mean_sen=3.7),\n",
       " Row(p_id=187, age=18, female=0, ethnicity=8, grip=55, chest='48', mean_anx=5.2, mean_dep=3.8, mean_fear=4.2, mean_sen=4.2),\n",
       " Row(p_id=176, age=19, female=0, ethnicity=2, grip=45, chest='33', mean_anx=4.1, mean_dep=5.4, mean_fear=3.4, mean_sen=3.3),\n",
       " Row(p_id=149, age=19, female=0, ethnicity=5, grip=38, chest='26', mean_anx=4.3, mean_dep=5.5, mean_fear=4.8, mean_sen=3.9),\n",
       " Row(p_id=174, age=21, female=0, ethnicity=1, grip=48, chest='30', mean_anx=3.1, mean_dep=3.1, mean_fear=3.2, mean_sen=3.1),\n",
       " Row(p_id=173, age=19, female=0, ethnicity=1, grip=45, chest='40', mean_anx=3.7, mean_dep=2.8, mean_fear=3.5, mean_sen=3.5),\n",
       " Row(p_id=113, age=20, female=0, ethnicity=1, grip=43, chest='59', mean_anx=4.3, mean_dep=4.8, mean_fear=4.5, mean_sen=3.8),\n",
       " Row(p_id=150, age=18, female=0, ethnicity=1, grip=58, chest='NA', mean_anx=3.0, mean_dep=3.9, mean_fear=4.1, mean_sen=3.5),\n",
       " Row(p_id=185, age=19, female=0, ethnicity=2, grip=54, chest='52', mean_anx=4.2, mean_dep=3.3, mean_fear=3.6, mean_sen=4.0),\n",
       " Row(p_id=349, age=21, female=1, ethnicity=2, grip=25, chest='18', mean_anx=4.2, mean_dep=3.7, mean_fear=4.6, mean_sen=3.6),\n",
       " Row(p_id=353, age=19, female=1, ethnicity=5, grip=22, chest='12', mean_anx=4.7, mean_dep=1.5, mean_fear=2.7, mean_sen=4.2),\n",
       " Row(p_id=337, age=22, female=1, ethnicity=1, grip=52, chest='34', mean_anx=4.1, mean_dep=4.6, mean_fear=4.4, mean_sen=4.4),\n",
       " Row(p_id=365, age=19, female=1, ethnicity=1, grip=30, chest='30', mean_anx=4.2, mean_dep=4.6, mean_fear=3.6, mean_sen=4.0),\n",
       " Row(p_id=341, age=18, female=1, ethnicity=1, grip=30, chest='16', mean_anx=4.9, mean_dep=4.2, mean_fear=3.0, mean_sen=3.9),\n",
       " Row(p_id=332, age=21, female=1, ethnicity=1, grip=25, chest='22', mean_anx=3.4, mean_dep=3.7, mean_fear=3.6, mean_sen=3.6),\n",
       " Row(p_id=368, age=19, female=1, ethnicity=2, grip=32, chest='11', mean_anx=3.8, mean_dep=4.2, mean_fear=3.6, mean_sen=3.5),\n",
       " Row(p_id=347, age=19, female=1, ethnicity=2, grip=21, chest='8', mean_anx=4.2, mean_dep=5.4, mean_fear=4.0, mean_sen=3.9),\n",
       " Row(p_id=309, age=18, female=1, ethnicity=1, grip=22, chest='12', mean_anx=3.7, mean_dep=4.6, mean_fear=2.9, mean_sen=4.0),\n",
       " Row(p_id=369, age=21, female=1, ethnicity=3, grip=32, chest='25', mean_anx=3.3, mean_dep=3.6, mean_fear=3.7, mean_sen=3.8),\n",
       " Row(p_id=360, age=19, female=1, ethnicity=1, grip=18, chest='8', mean_anx=3.8, mean_dep=4.4, mean_fear=3.7, mean_sen=3.7),\n",
       " Row(p_id=312, age=20, female=1, ethnicity=1, grip=13, chest='18', mean_anx=3.6, mean_dep=5.7, mean_fear=3.9, mean_sen=3.7),\n",
       " Row(p_id=330, age=20, female=1, ethnicity=2, grip=25, chest='20', mean_anx=3.3, mean_dep=5.0, mean_fear=2.4, mean_sen=3.4),\n",
       " Row(p_id=388, age=18, female=1, ethnicity=1, grip=30, chest='14', mean_anx=4.3, mean_dep=5.9, mean_fear=3.2, mean_sen=3.8),\n",
       " Row(p_id=381, age=19, female=1, ethnicity=2, grip=19, chest='14', mean_anx=4.1, mean_dep=3.2, mean_fear=3.3, mean_sen=3.3),\n",
       " Row(p_id=352, age=20, female=1, ethnicity=1, grip=30, chest='13', mean_anx=4.7, mean_dep=3.5, mean_fear=3.3, mean_sen=3.5),\n",
       " Row(p_id=302, age=19, female=1, ethnicity=1, grip=28, chest='6', mean_anx=4.2, mean_dep=6.0, mean_fear=3.4, mean_sen=3.6),\n",
       " Row(p_id=339, age=19, female=1, ethnicity=1, grip=44, chest='32', mean_anx=4.1, mean_dep=4.5, mean_fear=3.5, mean_sen=3.2),\n",
       " Row(p_id=345, age=19, female=1, ethnicity=8, grip=30, chest='16', mean_anx=3.5, mean_dep=3.5, mean_fear=3.6, mean_sen=3.7),\n",
       " Row(p_id=354, age=18, female=1, ethnicity=5, grip=19, chest='13', mean_anx=4.2, mean_dep=5.5, mean_fear=3.6, mean_sen=3.7),\n",
       " Row(p_id=367, age=21, female=1, ethnicity=1, grip=26, chest='26', mean_anx=3.8, mean_dep=5.5, mean_fear=3.7, mean_sen=3.4),\n",
       " Row(p_id=366, age=18, female=1, ethnicity=5, grip=27, chest='16', mean_anx=4.9, mean_dep=5.0, mean_fear=2.7, mean_sen=5.1),\n",
       " Row(p_id=318, age=20, female=1, ethnicity=1, grip=26, chest='18', mean_anx=4.2, mean_dep=4.2, mean_fear=4.0, mean_sen=3.8),\n",
       " Row(p_id=334, age=18, female=1, ethnicity=5, grip=33, chest='11', mean_anx=4.2, mean_dep=2.8, mean_fear=3.5, mean_sen=4.0),\n",
       " Row(p_id=335, age=18, female=1, ethnicity=2, grip=29, chest='14', mean_anx=4.1, mean_dep=6.0, mean_fear=4.4, mean_sen=3.5),\n",
       " Row(p_id=387, age=19, female=1, ethnicity=2, grip=16, chest='8', mean_anx=2.4, mean_dep=2.1, mean_fear=3.3, mean_sen=2.6),\n",
       " Row(p_id=324, age=20, female=1, ethnicity=1, grip=29, chest='17', mean_anx=3.8, mean_dep=3.9, mean_fear=3.7, mean_sen=4.1),\n",
       " Row(p_id=370, age=19, female=1, ethnicity=2, grip=36, chest='26', mean_anx=4.4, mean_dep=4.6, mean_fear=3.4, mean_sen=4.1),\n",
       " Row(p_id=348, age=19, female=1, ethnicity=5, grip=23, chest='19', mean_anx=4.5, mean_dep=4.8, mean_fear=4.7, mean_sen=4.3),\n",
       " Row(p_id=327, age=19, female=1, ethnicity=8, grip=30, chest='26', mean_anx=4.0, mean_dep=3.0, mean_fear=4.3, mean_sen=3.9),\n",
       " Row(p_id=340, age=20, female=1, ethnicity=2, grip=60, chest='38', mean_anx=5.1, mean_dep=4.3, mean_fear=3.6, mean_sen=3.6),\n",
       " Row(p_id=300, age=19, female=1, ethnicity=8, grip=21, chest='14', mean_anx=3.9, mean_dep=4.4, mean_fear=4.0, mean_sen=3.9),\n",
       " Row(p_id=305, age=18, female=1, ethnicity=5, grip=32, chest='18', mean_anx=4.6, mean_dep=4.9, mean_fear=4.1, mean_sen=4.0),\n",
       " Row(p_id=308, age=18, female=1, ethnicity=1, grip=34, chest='30', mean_anx=4.0, mean_dep=5.5, mean_fear=3.1, mean_sen=3.5),\n",
       " Row(p_id=346, age=19, female=1, ethnicity=1, grip=26, chest='18', mean_anx=3.8, mean_dep=5.2, mean_fear=3.8, mean_sen=3.8),\n",
       " Row(p_id=301, age=18, female=1, ethnicity=1, grip=33, chest='11', mean_anx=4.0, mean_dep=3.8, mean_fear=3.5, mean_sen=4.4),\n",
       " Row(p_id=379, age=18, female=1, ethnicity=5, grip=32, chest='19', mean_anx=4.0, mean_dep=3.9, mean_fear=3.8, mean_sen=3.7),\n",
       " Row(p_id=389, age=20, female=1, ethnicity=8, grip=16, chest='26', mean_anx=3.9, mean_dep=5.3, mean_fear=4.1, mean_sen=3.7),\n",
       " Row(p_id=376, age=19, female=1, ethnicity=2, grip=26, chest='15', mean_anx=3.5, mean_dep=3.1, mean_fear=4.3, mean_sen=3.8),\n",
       " Row(p_id=307, age=19, female=1, ethnicity=2, grip=37, chest='21', mean_anx=3.4, mean_dep=4.1, mean_fear=2.6, mean_sen=3.9),\n",
       " Row(p_id=325, age=19, female=1, ethnicity=1, grip=27, chest='14', mean_anx=4.5, mean_dep=4.9, mean_fear=4.1, mean_sen=4.5),\n",
       " Row(p_id=375, age=18, female=1, ethnicity=1, grip=25, chest='14', mean_anx=4.3, mean_dep=4.0, mean_fear=3.5, mean_sen=3.6),\n",
       " Row(p_id=378, age=18, female=1, ethnicity=5, grip=20, chest='16', mean_anx=4.9, mean_dep=4.9, mean_fear=4.7, mean_sen=4.6),\n",
       " Row(p_id=316, age=21, female=1, ethnicity=1, grip=22, chest='12', mean_anx=3.2, mean_dep=2.6, mean_fear=4.1, mean_sen=4.3),\n",
       " Row(p_id=310, age=19, female=1, ethnicity=1, grip=30, chest='14', mean_anx=3.3, mean_dep=4.5, mean_fear=3.2, mean_sen=3.4),\n",
       " Row(p_id=319, age=19, female=1, ethnicity=1, grip=21, chest='16', mean_anx=3.6, mean_dep=5.4, mean_fear=3.6, mean_sen=3.6),\n",
       " Row(p_id=338, age=20, female=1, ethnicity=2, grip=34, chest='22', mean_anx=4.5, mean_dep=4.2, mean_fear=3.5, mean_sen=3.8),\n",
       " Row(p_id=364, age=18, female=1, ethnicity=5, grip=23, chest='23', mean_anx=4.8, mean_dep=4.6, mean_fear=4.8, mean_sen=4.3),\n",
       " Row(p_id=386, age=18, female=1, ethnicity=1, grip=19, chest='9', mean_anx=4.1, mean_dep=4.1, mean_fear=3.7, mean_sen=3.5),\n",
       " Row(p_id=321, age=18, female=1, ethnicity=1, grip=34, chest='22', mean_anx=4.9, mean_dep=4.6, mean_fear=4.9, mean_sen=4.5),\n",
       " Row(p_id=313, age=21, female=1, ethnicity=1, grip=27, chest='18', mean_anx=4.6, mean_dep=2.1, mean_fear=3.8, mean_sen=5.1),\n",
       " Row(p_id=357, age=19, female=1, ethnicity=1, grip=16, chest='8', mean_anx=4.2, mean_dep=4.1, mean_fear=3.9, mean_sen=4.3),\n",
       " Row(p_id=358, age=19, female=1, ethnicity=2, grip=22, chest='15', mean_anx=4.3, mean_dep=4.7, mean_fear=4.1, mean_sen=3.5),\n",
       " Row(p_id=383, age=18, female=1, ethnicity=5, grip=24, chest='13', mean_anx=3.4, mean_dep=3.0, mean_fear=3.5, mean_sen=4.3),\n",
       " Row(p_id=359, age=19, female=1, ethnicity=1, grip=30, chest='21', mean_anx=4.1, mean_dep=5.2, mean_fear=4.1, mean_sen=3.4),\n",
       " Row(p_id=323, age=20, female=1, ethnicity=1, grip=24, chest='13', mean_anx=4.1, mean_dep=4.8, mean_fear=4.3, mean_sen=3.6),\n",
       " Row(p_id=314, age=18, female=1, ethnicity=1, grip=26, chest='16', mean_anx=2.9, mean_dep=3.7, mean_fear=4.6, mean_sen=3.1),\n",
       " Row(p_id=303, age=19, female=1, ethnicity=1, grip=27, chest='24', mean_anx=3.2, mean_dep=4.7, mean_fear=4.1, mean_sen=5.1),\n",
       " Row(p_id=373, age=18, female=1, ethnicity=2, grip=24, chest='15', mean_anx=4.0, mean_dep=5.2, mean_fear=3.8, mean_sen=3.8),\n",
       " Row(p_id=363, age=19, female=1, ethnicity=1, grip=31, chest='31', mean_anx=4.2, mean_dep=3.5, mean_fear=4.4, mean_sen=3.8),\n",
       " Row(p_id=362, age=18, female=1, ethnicity=2, grip=27, chest='10', mean_anx=4.1, mean_dep=3.8, mean_fear=4.1, mean_sen=4.2),\n",
       " Row(p_id=322, age=20, female=1, ethnicity=1, grip=31, chest='25', mean_anx=4.3, mean_dep=4.6, mean_fear=3.7, mean_sen=3.6),\n",
       " Row(p_id=306, age=21, female=1, ethnicity=1, grip=25, chest='22', mean_anx=4.8, mean_dep=4.6, mean_fear=4.0, mean_sen=4.0),\n",
       " Row(p_id=342, age=20, female=1, ethnicity=5, grip=24, chest='20', mean_anx=3.5, mean_dep=2.7, mean_fear=4.3, mean_sen=4.1),\n",
       " Row(p_id=315, age=19, female=1, ethnicity=1, grip=33, chest='22', mean_anx=4.3, mean_dep=4.2, mean_fear=3.0, mean_sen=3.6),\n",
       " Row(p_id=380, age=19, female=1, ethnicity=1, grip=34, chest='28', mean_anx=4.6, mean_dep=5.1, mean_fear=5.1, mean_sen=4.0),\n",
       " Row(p_id=351, age=21, female=1, ethnicity=2, grip=28, chest='15', mean_anx=3.6, mean_dep=2.9, mean_fear=3.8, mean_sen=3.9),\n",
       " Row(p_id=344, age=18, female=1, ethnicity=1, grip=30, chest='36', mean_anx=4.3, mean_dep=5.0, mean_fear=5.2, mean_sen=3.7),\n",
       " Row(p_id=371, age=20, female=1, ethnicity=2, grip=36, chest='26', mean_anx=4.7, mean_dep=3.9, mean_fear=4.5, mean_sen=3.8),\n",
       " Row(p_id=336, age=18, female=1, ethnicity=1, grip=30, chest='12', mean_anx=4.6, mean_dep=5.1, mean_fear=3.6, mean_sen=4.0),\n",
       " Row(p_id=329, age=19, female=1, ethnicity=1, grip=33, chest='13', mean_anx=3.3, mean_dep=1.6, mean_fear=3.5, mean_sen=3.9),\n",
       " Row(p_id=317, age=19, female=1, ethnicity=1, grip=27, chest='15', mean_anx=3.3, mean_dep=3.6, mean_fear=4.1, mean_sen=3.7),\n",
       " Row(p_id=328, age=20, female=1, ethnicity=5, grip=29, chest='20', mean_anx=3.5, mean_dep=4.2, mean_fear=3.3, mean_sen=4.0),\n",
       " Row(p_id=331, age=21, female=1, ethnicity=6, grip=30, chest='22', mean_anx=3.7, mean_dep=4.3, mean_fear=3.8, mean_sen=3.7),\n",
       " Row(p_id=377, age=19, female=1, ethnicity=1, grip=26, chest='20', mean_anx=4.2, mean_dep=5.7, mean_fear=3.2, mean_sen=3.6),\n",
       " Row(p_id=385, age=18, female=1, ethnicity=2, grip=32, chest='23', mean_anx=3.7, mean_dep=4.2, mean_fear=3.6, mean_sen=4.1),\n",
       " Row(p_id=374, age=19, female=1, ethnicity=2, grip=38, chest='27', mean_anx=3.0, mean_dep=2.6, mean_fear=3.5, mean_sen=4.0),\n",
       " Row(p_id=304, age=19, female=1, ethnicity=1, grip=28, chest='11', mean_anx=4.1, mean_dep=6.0, mean_fear=3.2, mean_sen=3.6),\n",
       " Row(p_id=356, age=19, female=1, ethnicity=3, grip=28, chest='19', mean_anx=3.8, mean_dep=4.9, mean_fear=2.9, mean_sen=3.5),\n",
       " Row(p_id=372, age=19, female=1, ethnicity=2, grip=40, chest='32', mean_anx=2.6, mean_dep=4.3, mean_fear=3.5, mean_sen=3.9),\n",
       " Row(p_id=320, age=19, female=1, ethnicity=1, grip=22, chest='14', mean_anx=4.2, mean_dep=3.8, mean_fear=3.7, mean_sen=4.3),\n",
       " Row(p_id=333, age=20, female=1, ethnicity=1, grip=34, chest='14', mean_anx=3.0, mean_dep=5.1, mean_fear=3.7, mean_sen=4.4),\n",
       " Row(p_id=382, age=20, female=1, ethnicity=5, grip=22, chest='13', mean_anx=4.3, mean_dep=5.6, mean_fear=4.8, mean_sen=3.6),\n",
       " Row(p_id=311, age=19, female=1, ethnicity=2, grip=25, chest='8', mean_anx=4.0, mean_dep=4.9, mean_fear=4.5, mean_sen=4.1),\n",
       " Row(p_id=343, age=18, female=1, ethnicity=8, grip=31, chest='20', mean_anx=4.3, mean_dep=4.2, mean_fear=3.4, mean_sen=3.5),\n",
       " Row(p_id=350, age=22, female=1, ethnicity=1, grip=25, chest='15', mean_anx=3.9, mean_dep=4.6, mean_fear=4.8, mean_sen=3.9),\n",
       " Row(p_id=355, age=18, female=1, ethnicity=8, grip=30, chest='18', mean_anx=3.7, mean_dep=2.7, mean_fear=3.5, mean_sen=4.0),\n",
       " Row(p_id=361, age=19, female=1, ethnicity=1, grip=30, chest='23', mean_anx=4.5, mean_dep=4.8, mean_fear=4.0, mean_sen=4.0),\n",
       " Row(p_id=384, age=19, female=1, ethnicity=1, grip=28, chest='13', mean_anx=4.1, mean_dep=4.0, mean_fear=3.2, mean_sen=3.7)]"
      ]
     },
     "execution_count": 95,
     "metadata": {},
     "output_type": "execute_result"
    }
   ],
   "source": [
    "anx_cols_to_average = ['e_anx_1', 'e_anx_2', 'e_anx_3','e_anx_4', 'e_anx_5', 'e_anx_6','e_anx_7', 'e_anx_8', 'e_anx_9', 'e_anx_10']\n",
    "dep_cols_to_average = ['e_dep_1', 'e_dep_2', 'e_dep_3','e_dep_4', 'e_dep_5', 'e_dep_6','e_dep_7', 'e_dep_8', 'e_dep_9', 'e_dep_10']\n",
    "fear_cols_to_average = ['e_fear_1', 'e_fear_2', 'e_fear_3','e_fear_4', 'e_fear_5', 'e_fear_6','e_fear_7', 'e_fear_8', 'e_fear_9', 'e_fear_10']\n",
    "sen_cols_to_average = ['e_sen_1', 'e_sen_2', 'e_sen_3','e_sen_4', 'e_sen_5', 'e_sen_6','e_sen_7', 'e_sen_8', 'e_sen_9', 'e_sen_10']\n",
    "\n",
    "mean_anx  = (sum(col(x) for x in anx_cols_to_average) / 10).alias(\"mean_anx\")\n",
    "mean_dep  = (sum(col(x) for x in dep_cols_to_average) / 10).alias(\"mean_dep\")\n",
    "mean_fear  = (sum(col(x) for x in fear_cols_to_average) / 10).alias(\"mean_fear\")\n",
    "mean_sen  = (sum(col(x) for x in sen_cols_to_average) / 10).alias(\"mean_sen\")\n",
    "\n",
    "df_with_means = df.withColumn(\"mean_anx\", mean_anx).withColumn(\"mean_dep\",mean_dep).withColumn(\"mean_fear\",mean_fear).withColumn(\"mean_sen\",mean_sen)\n",
    "\n",
    "cols_to_drop = ['e_anx_1', 'e_anx_2', 'e_anx_3','e_anx_4', 'e_anx_5', 'e_anx_6','e_anx_7', 'e_anx_8', 'e_anx_9', 'e_anx_10',\\\n",
    "          'e_dep_1', 'e_dep_2', 'e_dep_3','e_dep_4', 'e_dep_5', 'e_dep_6','e_dep_7', 'e_dep_8', 'e_dep_9', 'e_dep_10',\\\n",
    "          'e_fear_1', 'e_fear_2', 'e_fear_3','e_fear_4', 'e_fear_5', 'e_fear_6','e_fear_7', 'e_fear_8', 'e_fear_9', 'e_fear_10',\\\n",
    "          'e_sen_1', 'e_sen_2', 'e_sen_3','e_sen_4', 'e_sen_5', 'e_sen_6','e_sen_7', 'e_sen_8', 'e_sen_9', 'e_sen_10']\n",
    "df_with_means = df_with_means.drop(*cols_to_drop)\n",
    "df_with_means.collect()"
   ]
  },
  {
   "cell_type": "code",
   "execution_count": 96,
   "id": "3a808e46",
   "metadata": {},
   "outputs": [],
   "source": [
    "# Covert values in the 'chest' column to int\n",
    "df_with_means = df_with_means.withColumn(\"chest-clean\", col(\"chest\").cast(\"int\")).drop(\"chest\")\n",
    "    \n",
    "# Clean data: Fill missing values in the column 'chest'\n",
    "# with the mean value in that column\n",
    "imputer = Imputer(\n",
    "    inputCols=df_with_means.columns,\n",
    "    outputCols=[\"{}_imputed\".format(c) for c in df_with_means.columns]\n",
    ")\n",
    "df_with_means = imputer.fit(df_with_means).transform(df_with_means)\n",
    "\n",
    "# Drop original non-imputed columns\n",
    "col_drop=['p_id','mean_fear', 'age', 'female', 'ethnicity', 'grip', 'chest-clean', 'mean_anx', 'mean_dep', 'mean_sen']\n",
    "df_with_means = df_with_means.drop(*col_drop)"
   ]
  },
  {
   "cell_type": "markdown",
   "id": "9de685a8",
   "metadata": {},
   "source": [
    "# Q3: Feature Importance"
   ]
  },
  {
   "cell_type": "code",
   "execution_count": 43,
   "id": "3915c5d7",
   "metadata": {},
   "outputs": [],
   "source": [
    "train_data, test_data = df_with_means.randomSplit([0.8, 0.2], seed=123)\n",
    "\n",
    "train_data = train_data.withColumn(\"label\", train_data[\"mean_fear_imputed\"])\n",
    "\n",
    "inputCols=['age_imputed', 'female_imputed', 'ethnicity_imputed', 'grip_imputed', 'chest-clean_imputed', 'mean_anx_imputed', 'mean_dep_imputed', \"mean_sen_imputed\"],\n",
    "outputCol='features'\n",
    "\n",
    "assembler = VectorAssembler(\n",
    "    inputCols=['age_imputed', 'female_imputed', 'ethnicity_imputed', 'grip_imputed', 'chest-clean_imputed', 'mean_anx_imputed', 'mean_dep_imputed', \"mean_sen_imputed\"],\n",
    "    outputCol='features')\n",
    "\n",
    "train_data_trans = assembler.transform(train_data)"
   ]
  },
  {
   "cell_type": "markdown",
   "id": "a9b62066",
   "metadata": {},
   "source": [
    "## SVM"
   ]
  },
  {
   "cell_type": "code",
   "execution_count": 11,
   "id": "f80fb06d",
   "metadata": {},
   "outputs": [
    {
     "name": "stderr",
     "output_type": "stream",
     "text": [
      "23/03/15 01:26:14 WARN InstanceBuilder$NativeBLAS: Failed to load implementation from:dev.ludovic.netlib.blas.JNIBLAS\n",
      "23/03/15 01:26:14 WARN InstanceBuilder$NativeBLAS: Failed to load implementation from:dev.ludovic.netlib.blas.ForeignLinkerBLAS\n"
     ]
    },
    {
     "name": "stdout",
     "output_type": "stream",
     "text": [
      "Feature Importances:  [0.0,0.0,0.0,0.0,0.0,0.0,0.057318983950542496,0.0]\n"
     ]
    }
   ],
   "source": [
    "lr = LinearRegression(maxIter=10, regParam=0.1, elasticNetParam=0.8)\n",
    "lr_model = lr.fit(train_data_trans)\n",
    "\n",
    "# Get the feature importance\n",
    "coefficients = lr_model.coefficients\n",
    "print(\"Feature Importances: \", coefficients)\n",
    "# feature_importance = [(col, coef) for col, coef in zip(inputCols, coefficients)]\n",
    "\n",
    "# # Print the feature importance\n",
    "# print(\"Feature Importance:\")\n",
    "# for feature in feature_importance:\n",
    "#     print(feature[0], \": \", feature[1])"
   ]
  },
  {
   "cell_type": "markdown",
   "id": "537dc261",
   "metadata": {},
   "source": [
    "## Random Forest"
   ]
  },
  {
   "cell_type": "code",
   "execution_count": 12,
   "id": "8b9f5372",
   "metadata": {},
   "outputs": [
    {
     "data": {
      "text/plain": [
       "SparseVector(8, {0: 0.0454, 1: 0.0105, 2: 0.0442, 3: 0.134, 4: 0.1111, 5: 0.2067, 6: 0.2404, 7: 0.2078})"
      ]
     },
     "execution_count": 12,
     "metadata": {},
     "output_type": "execute_result"
    }
   ],
   "source": [
    "# Train a Random Forest model\n",
    "rf = RandomForestRegressor()\n",
    "rf_model = rf.fit(train_data_trans)\n",
    "\n",
    "# Get the feature importance\n",
    "rf_model.featureImportances"
   ]
  },
  {
   "cell_type": "markdown",
   "id": "25034391",
   "metadata": {},
   "source": [
    "# Q4: Prediction"
   ]
  },
  {
   "cell_type": "markdown",
   "id": "d52d0b07",
   "metadata": {},
   "source": [
    "## Random Forest"
   ]
  },
  {
   "cell_type": "code",
   "execution_count": 13,
   "id": "fa3aa4b2",
   "metadata": {},
   "outputs": [
    {
     "ename": "NameError",
     "evalue": "name 'model' is not defined",
     "output_type": "error",
     "traceback": [
      "\u001b[0;31m---------------------------------------------------------------------------\u001b[0m",
      "\u001b[0;31mNameError\u001b[0m                                 Traceback (most recent call last)",
      "Input \u001b[0;32mIn [13]\u001b[0m, in \u001b[0;36m<cell line: 5>\u001b[0;34m()\u001b[0m\n\u001b[1;32m      2\u001b[0m test_data_trans \u001b[38;5;241m=\u001b[39m assembler\u001b[38;5;241m.\u001b[39mtransform(test_data)\n\u001b[1;32m      4\u001b[0m \u001b[38;5;66;03m# Make predictions.\u001b[39;00m\n\u001b[0;32m----> 5\u001b[0m predictions \u001b[38;5;241m=\u001b[39m \u001b[43mmodel\u001b[49m\u001b[38;5;241m.\u001b[39mtransform(test_data_trans)\n\u001b[1;32m      7\u001b[0m evaluator \u001b[38;5;241m=\u001b[39m RegressionEvaluator(predictionCol\u001b[38;5;241m=\u001b[39m\u001b[38;5;124m\"\u001b[39m\u001b[38;5;124mprediction\u001b[39m\u001b[38;5;124m\"\u001b[39m, labelCol\u001b[38;5;241m=\u001b[39m\u001b[38;5;124m\"\u001b[39m\u001b[38;5;124mlabel\u001b[39m\u001b[38;5;124m\"\u001b[39m, metricName\u001b[38;5;241m=\u001b[39m\u001b[38;5;124m\"\u001b[39m\u001b[38;5;124mmse\u001b[39m\u001b[38;5;124m\"\u001b[39m)\n\u001b[1;32m      8\u001b[0m mse \u001b[38;5;241m=\u001b[39m evaluator\u001b[38;5;241m.\u001b[39mevaluate(predictions)\n",
      "\u001b[0;31mNameError\u001b[0m: name 'model' is not defined"
     ]
    }
   ],
   "source": [
    "test_data = test_data.withColumn(\"label\", test_data[\"mean_fear_imputed\"])\n",
    "test_data_trans = assembler.transform(test_data)\n",
    "\n",
    "# Make predictions.\n",
    "predictions = model.transform(test_data_trans)\n",
    "\n",
    "evaluator = RegressionEvaluator(predictionCol=\"prediction\", labelCol=\"label\", metricName=\"mse\")\n",
    "mse = evaluator.evaluate(predictions)\n",
    "print(\"Mean squared error = %g\" % mse)\n",
    "\n",
    "evaluator = RegressionEvaluator(predictionCol=\"prediction\", labelCol=\"label\", metricName=\"r2\")\n",
    "r2 = evaluator.evaluate(predictions)\n",
    "print(\"R-squared = %g\" % r2)"
   ]
  },
  {
   "cell_type": "markdown",
   "id": "64171df3",
   "metadata": {},
   "source": [
    "## SVM\n"
   ]
  },
  {
   "cell_type": "code",
   "execution_count": 97,
   "id": "0b61698f",
   "metadata": {},
   "outputs": [],
   "source": [
    "from pyspark.ml.feature import StringIndexer\n",
    "from pyspark.ml.classification import LinearSVC\n",
    "from pyspark.ml.evaluation import MulticlassClassificationEvaluator\n",
    "from pyspark.sql.functions import col\n",
    "from pyspark.ml.feature import StringIndexer, OneHotEncoder\n",
    "\n",
    "\n",
    "# Convert fearfulness scores into three categories\n",
    "threshold1 = df_with_means.approxQuantile('mean_fear_imputed', [0.33], 0)[0]\n",
    "threshold2 = df_with_means.approxQuantile('mean_fear_imputed', [0.66], 0)[0]\n",
    "df_with_means = df_with_means.withColumn('fearfulness_category', \n",
    "                       when(col('mean_fear_imputed') <= threshold1, 'low')\n",
    "                       .when((col('mean_fear_imputed') > threshold1) & (col('mean_fear_imputed') <= threshold2), 'medium')\n",
    "                       .otherwise('high'))\n",
    "\n",
    "# Covert values in the 'fearfulness_category' column to int\n",
    "#df_with_means = df_with_means.withColumn(\"fearfulness_category_clean\", col(\"fearfulness_category\").cast(\"int\")).drop(\"fearfulness_category\")\n",
    "\n"
   ]
  },
  {
   "cell_type": "code",
   "execution_count": 98,
   "id": "a3e0cc3d",
   "metadata": {
    "scrolled": true
   },
   "outputs": [],
   "source": [
    "# conversion from categorical to numerical\n",
    "indexer = StringIndexer(inputCol='fearfulness_category', outputCol='fearfulness_category_numeric').fit(df_with_means)\n",
    "df_with_means = indexer.transform(df_with_means)\n",
    "df_with_means = df_with_means.drop('mean_fear_imputed', 'fearfulness_category')\n",
    "# Split the data into training and testing sets\n",
    "df_train, df_test = df_with_means.randomSplit([0.8, 0.2], seed=42)\n",
    "X_train = df_train.drop('fearfulness_category_numeric')\n",
    "X_test = df_test.drop('fearfulness_category_numeric')\n",
    "y_train = df_train.select('fearfulness_category_numeric')\n",
    "y_test = df_train.select('fearfulness_category_numeric')"
   ]
  },
  {
   "cell_type": "code",
   "execution_count": 99,
   "id": "651ff947",
   "metadata": {
    "scrolled": true
   },
   "outputs": [],
   "source": [
    "#Add label\n",
    "from pyspark.ml.feature import VectorAssembler\n",
    "from pyspark.ml.classification import LinearSVC\n",
    "\n",
    "\n",
    "train_data = df_train.withColumn(\"label\", df_train[\"fearfulness_category_numeric\"]).drop('fearfulness_category_numeric')\n",
    "test_data = df_test.withColumn(\"label\", df_test[\"fearfulness_category_numeric\"]).drop('fearfulness_category_numeric')\n"
   ]
  },
  {
   "cell_type": "code",
   "execution_count": 100,
   "id": "bc55a7d7",
   "metadata": {},
   "outputs": [],
   "source": [
    "#Add feature\n",
    "inputCols=['age_imputed', 'female_imputed', 'ethnicity_imputed', 'grip_imputed', 'chest-clean_imputed', 'mean_anx_imputed', 'mean_dep_imputed', \"mean_sen_imputed\"],\n",
    "outputCol='features'\n",
    "# Assemble the features into a vector column named \"features\"\n",
    "assembler = VectorAssembler(\n",
    "    inputCols=['age_imputed', 'female_imputed', 'ethnicity_imputed', 'grip_imputed', 'chest-clean_imputed', 'mean_anx_imputed', 'mean_dep_imputed', \"mean_sen_imputed\"],\n",
    "    outputCol='features')\n",
    "\n",
    "train_data_trans = assembler.transform(train_data)\n",
    "test_data_trans = assembler.transform(test_data)\n"
   ]
  },
  {
   "cell_type": "code",
   "execution_count": 90,
   "id": "8f937796",
   "metadata": {},
   "outputs": [],
   "source": [
    "from pyspark.ml.classification import OneVsRest\n",
    "\n",
    "# Train the SVM classifier\n",
    "svm = LinearSVC(maxIter=10, regParam=0.1)\n",
    "# set the label column to 'label'\n",
    "svm.setLabelCol(\"label\")\n",
    "\n",
    "# set the features column to 'features'\n",
    "svm.setFeaturesCol(\"features\")\n",
    "\n",
    "# create an instance of the OneVsRest class\n",
    "ovr = OneVsRest(classifier=svm)\n",
    "\n",
    "# fit the OneVsRest model on the training data\n",
    "ovr_model = ovr.fit(train_data_trans)\n",
    "\n",
    "y_pred = ovr_model.transform(test_data_trans)"
   ]
  },
  {
   "cell_type": "code",
   "execution_count": 91,
   "id": "2ca257bf",
   "metadata": {},
   "outputs": [
    {
     "name": "stderr",
     "output_type": "stream",
     "text": [
      "                                                                                \r"
     ]
    },
    {
     "name": "stdout",
     "output_type": "stream",
     "text": [
      "Accuracy: 0.41379310344827586\n",
      "F1-score: 0.3581191222570533\n"
     ]
    }
   ],
   "source": [
    "# Evaluate the performance of the classifier\n",
    "# Predict on the test data using the SVM model\n",
    "\n",
    "\n",
    "\n",
    "evaluator = MulticlassClassificationEvaluator(predictionCol='prediction', labelCol='label', metricName='accuracy')\n",
    "accuracy = evaluator.evaluate(y_pred)\n",
    "f1_evaluator = MulticlassClassificationEvaluator(predictionCol='prediction', labelCol='label', metricName='f1')\n",
    "f1 = f1_evaluator.evaluate(y_pred)\n",
    "\n",
    "print(f'Accuracy: {accuracy}')\n",
    "print(f'F1-score: {f1}')"
   ]
  }
 ],
 "metadata": {
  "kernelspec": {
   "display_name": "Python 3 (ipykernel)",
   "language": "python",
   "name": "python3"
  },
  "language_info": {
   "codemirror_mode": {
    "name": "ipython",
    "version": 3
   },
   "file_extension": ".py",
   "mimetype": "text/x-python",
   "name": "python",
   "nbconvert_exporter": "python",
   "pygments_lexer": "ipython3",
   "version": "3.8.13"
  }
 },
 "nbformat": 4,
 "nbformat_minor": 5
}
